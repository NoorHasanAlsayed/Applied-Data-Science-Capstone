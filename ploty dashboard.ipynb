{
    "cells": [
        {
            "cell_type": "code",
            "execution_count": null,
            "metadata": {
                "collapsed": true
            },
            "outputs": [],
            "source": "!pip install dash==1.19.0  \n\n!pip install jupyter_dash \n\n!pip install --upgrade plotly"
        },
        {
            "cell_type": "code",
            "execution_count": null,
            "metadata": {},
            "outputs": [],
            "source": "# Import required libraries\nimport pandas as pd\nimport dash\nimport dash_html_components as html\nimport dash_core_components as dcc\nfrom dash.dependencies import Input, Output\nimport plotly.express as px\n\n# Read the airline data into pandas dataframe\nspacex_df = pd.read_csv(\"https://cf-courses-data.s3.us.cloud-object-storage.appdomain.cloud/IBM-DS0321EN-SkillsNetwork/datasets/spacex_launch_dash.csv\")\nmax_payload = spacex_df['Payload Mass (kg)'].max()\nmin_payload = spacex_df['Payload Mass (kg)'].min()\n\n# Create a dash application\napp = dash.Dash(__name__)\n\n# Create an app layout\napp.layout = html.Div(children=[html.H1('SpaceX Launch Records Dashboard',\n                                        style={'textAlign': 'center', 'color': '#503D36',\n                                               'font-size': 40}),\n                                # TASK 1: Add a dropdown list to enable Launch Site selection\n                                # The default select value is for ALL sites\n                                # dcc.Dropdown(id='site-dropdown',...)\n                                dcc.Dropdown(id='site-dropdown',\n                                            options=[\n                                                         {'label': 'ALL SITES', 'value': 'ALL'},\n                                                         {'label': 'CCAFS LC-40', 'value': 'CCAFS LC-40'},\n                                                         {'label': 'VAFB SLC-4E', 'value': 'VAFB SLC-4E'},\n                                                         {'label': 'KSC LC-39A', 'value': 'KSC LC-39A'},\n                                                         {'label': 'CCAFS SLC-40', 'value': 'CCAFS SLC-40'}\n                                                    ],\n                                            value='ALL',\n                                            placeholder=\"Select a Launch Site here\", \n                                            searchable=True),\n                                            html.Br(),\n\n                                # TASK 2: Add a pie chart to show the total successful launches count for all sites\n                                # If a specific launch site was selected, show the Success vs. Failed counts for the site\n                                html.Div(dcc.Graph(id='success-pie-chart')),\n                                html.Br(),\n\n                                html.P(\"Payload range (Kg):\"),\n                                # TASK 3: Add a slider to select payload range\n                                #dcc.RangeSlider(id='payload-slider',...)\ndcc.RangeSlider(id='payload-slider',\n                                                min=0,max=10000,step=1000,\n                                                value=[min_payload,max_payload],\n                                                marks={0: '0', 1000:'1000',2000:'2000',\n                                                3000:'3000', 4000: '4000', 5000: '5000'\n                                                , 6000: '6000', 7000: '7000', 8000: '8000'\n                                                , 9000: '9000', 10000: '10000'}),\n                                # TASK 4: Add a scatter chart to show the correlation between payload and launch success\n                                html.Div(dcc.Graph(id='success-payload-scatter-chart')),\n                                ])\n\n# TASK 2:\n# Add a callback function for `site-dropdown` as input, `success-pie-chart` as output\n@app.callback(Output(component_id='success-pie-chart', component_property='figure'),\n              Input(component_id='site-dropdown', component_property='value'))\ndef get_pie_chart(site_dropdown):\n    filtered_df = spacex_df\n    if site_dropdown == 'ALL':\n        fig = px.pie(filtered_df, values='class', \n        names='Launch Site', \n        title='Launch Successes for site')\n        return fig\n    else:\n       \n        # return the outcomes piechart for a selected site\n        specific_df=spacex_df.loc[spacex_df['Launch Site'] == site_dropdown].groupby(['Launch Site', 'class']).size().reset_index(name='class count')\n        fig = px.pie(specific_df, names='class',values='class count',title='Successful Site Launch Count')\n        return fig\n# TASK 4:\n# Add a callback function for `site-dropdown` and `payload-slider` as inputs, `success-payload-scatter-chart` as output\n\n\n\n@app.callback(Output(component_id='success-payload-scatter-chart', component_property='figure'),\n                [Input(component_id='site-dropdown', component_property='value'), \n                Input(component_id='payload-slider', component_property='value')])\n\ndef update_scatter (entered_site, slider_position):\n    low, high = slider_position\n    scat_df = spacex_df[spacex_df['Payload Mass (kg)'].between(low, high)]\n    if entered_site == 'ALL':\n        scat_fig = px.scatter(scat_df, x=\"Payload Mass (kg)\", y=\"class\", color=\"Booster Version Category\",\n                title=f'Correlation between Payload and Success for All Sites') \n        return scat_fig\n    else:\n        scat_dfs = scat_df[scat_df['Launch Site'] == entered_site]\n        scat_fig = px.scatter(scat_dfs, x=\"Payload Mass (kg)\", y=\"class\", color=\"Booster Version Category\",\n                title=f'Correlation between Payload and Success for Site {entered_site}') \n        return scat_fig\n\n\n# Run the app\nif __name__ == '__main__':\n    app.run_server()"
        },
        {
            "cell_type": "code",
            "execution_count": null,
            "metadata": {},
            "outputs": [],
            "source": ""
        }
    ],
    "metadata": {
        "kernelspec": {
            "display_name": "Python 3.8",
            "language": "python",
            "name": "python3"
        },
        "language_info": {
            "codemirror_mode": {
                "name": "ipython",
                "version": 3
            },
            "file_extension": ".py",
            "mimetype": "text/x-python",
            "name": "python",
            "nbconvert_exporter": "python",
            "pygments_lexer": "ipython3",
            "version": "3.8.12"
        }
    },
    "nbformat": 4,
    "nbformat_minor": 1
}